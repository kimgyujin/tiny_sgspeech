{
  "nbformat": 4,
  "nbformat_minor": 0,
  "metadata": {
    "colab": {
      "name": "sgspeech.ipynb",
      "provenance": [],
      "collapsed_sections": []
    },
    "kernelspec": {
      "name": "python3",
      "display_name": "Python 3"
    },
    "language_info": {
      "name": "python"
    },
    "accelerator": "GPU"
  },
  "cells": [
    {
      "cell_type": "code",
      "metadata": {
        "colab": {
          "base_uri": "https://localhost:8080/"
        },
        "id": "uycv4pvyWfcN",
        "outputId": "604aefaf-d63c-4b0e-c77b-e2175ecda71d"
      },
      "source": [
        "!git clone https://github.com/indra622/sgspeech_private.git -b tiny_sgspeech"
      ],
      "execution_count": 1,
      "outputs": [
        {
          "output_type": "stream",
          "text": [
            "Cloning into 'sgspeech_private'...\n",
            "remote: Enumerating objects: 254, done.\u001b[K\n",
            "remote: Counting objects: 100% (254/254), done.\u001b[K\n",
            "remote: Compressing objects: 100% (188/188), done.\u001b[K\n",
            "remote: Total 254 (delta 102), reused 213 (delta 61), pack-reused 0\u001b[K\n",
            "Receiving objects: 100% (254/254), 170.65 KiB | 14.22 MiB/s, done.\n",
            "Resolving deltas: 100% (102/102), done.\n"
          ],
          "name": "stdout"
        }
      ]
    },
    {
      "cell_type": "code",
      "metadata": {
        "colab": {
          "base_uri": "https://localhost:8080/"
        },
        "id": "AyVxqdP0Wotu",
        "outputId": "3d7aa539-5394-4794-acf9-fd6fa1c7e43a"
      },
      "source": [
        "!wget https://www.openslr.org/resources/12/train-clean-100.tar.gz\n",
        "!wget https://www.openslr.org/resources/12/test-clean.tar.gz\n",
        "!wget https://www.openslr.org/resources/12/test-other.tar.gz\n",
        "!wget https://www.openslr.org/resources/12/dev-clean.tar.gz\n",
        "!wget https://www.openslr.org/resources/12/dev-other.tar.gz"
      ],
      "execution_count": null,
      "outputs": [
        {
          "output_type": "stream",
          "text": [
            "--2021-06-10 06:39:12--  https://www.openslr.org/resources/12/train-clean-100.tar.gz\n",
            "Resolving www.openslr.org (www.openslr.org)... 46.101.158.64\n",
            "Connecting to www.openslr.org (www.openslr.org)|46.101.158.64|:443... connected.\n",
            "HTTP request sent, awaiting response... 200 OK\n",
            "Length: 6387309499 (5.9G) [application/x-gzip]\n",
            "Saving to: ‘train-clean-100.tar.gz.1’\n",
            "\n",
            "train-clean-100.tar  28%[====>               ]   1.71G  3.28MB/s    eta 8m 33s ^C\n",
            "--2021-06-10 06:42:40--  https://www.openslr.org/resources/12/test-clean.tar.gz\n",
            "Resolving www.openslr.org (www.openslr.org)... 46.101.158.64\n",
            "Connecting to www.openslr.org (www.openslr.org)|46.101.158.64|:443... connected.\n",
            "HTTP request sent, awaiting response... 200 OK\n",
            "Length: 346663984 (331M) [application/x-gzip]\n",
            "Saving to: ‘test-clean.tar.gz.1’\n",
            "\n",
            "test-clean.tar.gz.1  67%[============>       ] 222.02M  14.7MB/s    eta 7s     ^C\n",
            "--2021-06-10 06:42:56--  https://www.openslr.org/resources/12/test-other.tar.gz\n",
            "Resolving www.openslr.org (www.openslr.org)... 46.101.158.64\n",
            "Connecting to www.openslr.org (www.openslr.org)|46.101.158.64|:443... connected.\n",
            "HTTP request sent, awaiting response... 200 OK\n",
            "Length: 328757843 (314M) [application/x-gzip]\n",
            "Saving to: ‘test-other.tar.gz.1’\n",
            "\n",
            "test-other.tar.gz.1   0%[                    ]  40.00K   133KB/s               ^C\n",
            "--2021-06-10 06:42:58--  https://www.openslr.org/resources/12/dev-clean.tar.gz\n",
            "Resolving www.openslr.org (www.openslr.org)... 46.101.158.64\n",
            "Connecting to www.openslr.org (www.openslr.org)|46.101.158.64|:443... connected.\n",
            "HTTP request sent, awaiting response... 200 OK\n",
            "Length: 337926286 (322M) [application/x-gzip]\n",
            "Saving to: ‘dev-clean.tar.gz.1’\n",
            "\n",
            "dev-clean.tar.gz.1   17%[==>                 ]  55.04M  14.3MB/s    eta 28s    "
          ],
          "name": "stdout"
        }
      ]
    },
    {
      "cell_type": "code",
      "metadata": {
        "id": "8Gs1Lv7-XZmu"
      },
      "source": [
        "!tar -xvzf test-clean.tar.gz\n",
        "!tar -xvzf train-clean-100.tar.gz\n",
        "!tar -xvzf test-other.tar.gz\n",
        "!tar -xvzf dev-clean.tar.gz\n",
        "!tar -xvzf dev-other.tar.gz"
      ],
      "execution_count": null,
      "outputs": []
    },
    {
      "cell_type": "code",
      "metadata": {
        "colab": {
          "base_uri": "https://localhost:8080/"
        },
        "id": "BvVngzpAkKpk",
        "outputId": "15e09aec-48fb-43a8-f71c-d585e29d4c47"
      },
      "source": [
        "!python sgspeech_private/create_librispeech_trans.py --dir /content/LibriSpeech/train-clean-100 /content/LibriSpeech/train-clean-100/transcripts.tsv\n",
        "!python sgspeech_private/create_librispeech_trans.py --dir /content/LibriSpeech/dev-clean /content/LibriSpeech/dev-clean/transcripts.tsv\n",
        "!python sgspeech_private/create_librispeech_trans.py --dir /content/LibriSpeech/dev-other /content/LibriSpeech/dev-other/transcripts.tsv\n",
        "!python sgspeech_private/create_librispeech_trans.py --dir /content/LibriSpeech/test-clean /content/LibriSpeech/test-clean/transcripts.tsv\n",
        "!python sgspeech_private/create_librispeech_trans.py --dir /content/LibriSpeech/test-other /content/LibriSpeech/test-other/transcripts.tsv"
      ],
      "execution_count": null,
      "outputs": [
        {
          "output_type": "stream",
          "text": [
            "2021-06-10 06:43:18.523338: I tensorflow/stream_executor/platform/default/dso_loader.cc:53] Successfully opened dynamic library libcudart.so.11.0\n",
            "[Loading]: 100% 585/585 [03:00<00:00,  3.25it/s]\n",
            "[Writing]: 100% 28539/28539 [00:00<00:00, 1364256.64it/s]\n",
            "\u001b[0m2021-06-10 06:46:21.877924: I tensorflow/stream_executor/platform/default/dso_loader.cc:53] Successfully opened dynamic library libcudart.so.11.0\n",
            "[Loading]: 100% 97/97 [00:09<00:00,  9.95it/s]\n",
            "[Writing]: 100% 2703/2703 [00:00<00:00, 1473512.31it/s]\n",
            "\u001b[0m2021-06-10 06:46:34.396761: I tensorflow/stream_executor/platform/default/dso_loader.cc:53] Successfully opened dynamic library libcudart.so.11.0\n",
            "[Loading]: 100% 91/91 [00:09<00:00,  9.96it/s]\n",
            "[Writing]: 100% 2864/2864 [00:00<00:00, 1495392.34it/s]\n",
            "\u001b[0m2021-06-10 06:46:46.079037: I tensorflow/stream_executor/platform/default/dso_loader.cc:53] Successfully opened dynamic library libcudart.so.11.0\n",
            "[Loading]: 100% 87/87 [00:09<00:00,  8.71it/s]\n",
            "[Writing]: 100% 2620/2620 [00:00<00:00, 1210784.10it/s]\n",
            "\u001b[0m2021-06-10 06:46:58.730691: I tensorflow/stream_executor/platform/default/dso_loader.cc:53] Successfully opened dynamic library libcudart.so.11.0\n",
            "[Loading]: 100% 90/90 [00:09<00:00,  9.44it/s]\n",
            "[Writing]: 100% 2939/2939 [00:00<00:00, 1416577.74it/s]\n",
            "\u001b[0m"
          ],
          "name": "stdout"
        }
      ]
    },
    {
      "cell_type": "code",
      "metadata": {
        "colab": {
          "base_uri": "https://localhost:8080/"
        },
        "id": "ZzqhWnnojX0j",
        "outputId": "f0461372-aa79-41b2-d332-39ad286cf1d8"
      },
      "source": [
        "!cd sgspeech_private && pip install ."
      ],
      "execution_count": null,
      "outputs": [
        {
          "output_type": "stream",
          "text": [
            "Processing /content/sgspeech_private\n",
            "Requirement already satisfied: tensorflow-datasets>=4.1.0 in /usr/local/lib/python3.7/dist-packages (from SGSpeech==0.0.1) (4.3.0)\n",
            "Requirement already satisfied: tensorflow-addons>=0.10.0 in /usr/local/lib/python3.7/dist-packages (from SGSpeech==0.0.1) (0.13.0)\n",
            "Requirement already satisfied: tensorflow-io>=0.16.0 in /usr/local/lib/python3.7/dist-packages (from SGSpeech==0.0.1) (0.18.0)\n",
            "Requirement already satisfied: setuptools>=47.1.1 in /usr/local/lib/python3.7/dist-packages (from SGSpeech==0.0.1) (57.0.0)\n",
            "Requirement already satisfied: librosa>=0.8.0 in /usr/local/lib/python3.7/dist-packages (from SGSpeech==0.0.1) (0.8.0)\n",
            "Requirement already satisfied: soundfile>=0.10.3 in /usr/local/lib/python3.7/dist-packages (from SGSpeech==0.0.1) (0.10.3.post1)\n",
            "Requirement already satisfied: PyYAML>=5.3.1 in /usr/local/lib/python3.7/dist-packages (from SGSpeech==0.0.1) (5.4.1)\n",
            "Requirement already satisfied: matplotlib>=3.2.1 in /usr/local/lib/python3.7/dist-packages (from SGSpeech==0.0.1) (3.2.2)\n",
            "Requirement already satisfied: sox>=1.4.1 in /usr/local/lib/python3.7/dist-packages (from SGSpeech==0.0.1) (1.4.1)\n",
            "Requirement already satisfied: tqdm>=4.54.1 in /usr/local/lib/python3.7/dist-packages (from SGSpeech==0.0.1) (4.61.0)\n",
            "Requirement already satisfied: colorama>=0.4.4 in /usr/local/lib/python3.7/dist-packages (from SGSpeech==0.0.1) (0.4.4)\n",
            "Requirement already satisfied: nlpaug>=1.1.1 in /usr/local/lib/python3.7/dist-packages (from SGSpeech==0.0.1) (1.1.3)\n",
            "Requirement already satisfied: nltk>=3.5 in /usr/local/lib/python3.7/dist-packages (from SGSpeech==0.0.1) (3.6.2)\n",
            "Requirement already satisfied: sentencepiece>=0.1.94 in /usr/local/lib/python3.7/dist-packages (from SGSpeech==0.0.1) (0.1.95)\n",
            "Requirement already satisfied: future in /usr/local/lib/python3.7/dist-packages (from tensorflow-datasets>=4.1.0->SGSpeech==0.0.1) (0.16.0)\n",
            "Requirement already satisfied: attrs>=18.1.0 in /usr/local/lib/python3.7/dist-packages (from tensorflow-datasets>=4.1.0->SGSpeech==0.0.1) (21.2.0)\n",
            "Requirement already satisfied: importlib-resources; python_version < \"3.9\" in /usr/local/lib/python3.7/dist-packages (from tensorflow-datasets>=4.1.0->SGSpeech==0.0.1) (5.1.3)\n",
            "Requirement already satisfied: protobuf>=3.12.2 in /usr/local/lib/python3.7/dist-packages (from tensorflow-datasets>=4.1.0->SGSpeech==0.0.1) (3.12.4)\n",
            "Requirement already satisfied: typing-extensions; python_version < \"3.8\" in /usr/local/lib/python3.7/dist-packages (from tensorflow-datasets>=4.1.0->SGSpeech==0.0.1) (3.7.4.3)\n",
            "Requirement already satisfied: tensorflow-metadata in /usr/local/lib/python3.7/dist-packages (from tensorflow-datasets>=4.1.0->SGSpeech==0.0.1) (1.0.0)\n",
            "Requirement already satisfied: promise in /usr/local/lib/python3.7/dist-packages (from tensorflow-datasets>=4.1.0->SGSpeech==0.0.1) (2.3)\n",
            "Requirement already satisfied: dill in /usr/local/lib/python3.7/dist-packages (from tensorflow-datasets>=4.1.0->SGSpeech==0.0.1) (0.3.3)\n",
            "Requirement already satisfied: six in /usr/local/lib/python3.7/dist-packages (from tensorflow-datasets>=4.1.0->SGSpeech==0.0.1) (1.15.0)\n",
            "Requirement already satisfied: termcolor in /usr/local/lib/python3.7/dist-packages (from tensorflow-datasets>=4.1.0->SGSpeech==0.0.1) (1.1.0)\n",
            "Requirement already satisfied: numpy in /usr/local/lib/python3.7/dist-packages (from tensorflow-datasets>=4.1.0->SGSpeech==0.0.1) (1.19.5)\n",
            "Requirement already satisfied: requests>=2.19.0 in /usr/local/lib/python3.7/dist-packages (from tensorflow-datasets>=4.1.0->SGSpeech==0.0.1) (2.23.0)\n",
            "Requirement already satisfied: absl-py in /usr/local/lib/python3.7/dist-packages (from tensorflow-datasets>=4.1.0->SGSpeech==0.0.1) (0.12.0)\n",
            "Requirement already satisfied: typeguard>=2.7 in /usr/local/lib/python3.7/dist-packages (from tensorflow-addons>=0.10.0->SGSpeech==0.0.1) (2.7.1)\n",
            "Requirement already satisfied: tensorflow-io-gcs-filesystem==0.18.0 in /usr/local/lib/python3.7/dist-packages (from tensorflow-io>=0.16.0->SGSpeech==0.0.1) (0.18.0)\n",
            "Requirement already satisfied: tensorflow<2.6.0,>=2.5.0 in /usr/local/lib/python3.7/dist-packages (from tensorflow-io>=0.16.0->SGSpeech==0.0.1) (2.5.0)\n",
            "Requirement already satisfied: joblib>=0.14 in /usr/local/lib/python3.7/dist-packages (from librosa>=0.8.0->SGSpeech==0.0.1) (1.0.1)\n",
            "Requirement already satisfied: resampy>=0.2.2 in /usr/local/lib/python3.7/dist-packages (from librosa>=0.8.0->SGSpeech==0.0.1) (0.2.2)\n",
            "Requirement already satisfied: audioread>=2.0.0 in /usr/local/lib/python3.7/dist-packages (from librosa>=0.8.0->SGSpeech==0.0.1) (2.1.9)\n",
            "Requirement already satisfied: scikit-learn!=0.19.0,>=0.14.0 in /usr/local/lib/python3.7/dist-packages (from librosa>=0.8.0->SGSpeech==0.0.1) (0.22.2.post1)\n",
            "Requirement already satisfied: pooch>=1.0 in /usr/local/lib/python3.7/dist-packages (from librosa>=0.8.0->SGSpeech==0.0.1) (1.3.0)\n",
            "Requirement already satisfied: scipy>=1.0.0 in /usr/local/lib/python3.7/dist-packages (from librosa>=0.8.0->SGSpeech==0.0.1) (1.4.1)\n",
            "Requirement already satisfied: decorator>=3.0.0 in /usr/local/lib/python3.7/dist-packages (from librosa>=0.8.0->SGSpeech==0.0.1) (4.4.2)\n",
            "Requirement already satisfied: numba>=0.43.0 in /usr/local/lib/python3.7/dist-packages (from librosa>=0.8.0->SGSpeech==0.0.1) (0.51.2)\n",
            "Requirement already satisfied: cffi>=1.0 in /usr/local/lib/python3.7/dist-packages (from soundfile>=0.10.3->SGSpeech==0.0.1) (1.14.5)\n",
            "Requirement already satisfied: pyparsing!=2.0.4,!=2.1.2,!=2.1.6,>=2.0.1 in /usr/local/lib/python3.7/dist-packages (from matplotlib>=3.2.1->SGSpeech==0.0.1) (2.4.7)\n",
            "Requirement already satisfied: python-dateutil>=2.1 in /usr/local/lib/python3.7/dist-packages (from matplotlib>=3.2.1->SGSpeech==0.0.1) (2.8.1)\n",
            "Requirement already satisfied: kiwisolver>=1.0.1 in /usr/local/lib/python3.7/dist-packages (from matplotlib>=3.2.1->SGSpeech==0.0.1) (1.3.1)\n",
            "Requirement already satisfied: cycler>=0.10 in /usr/local/lib/python3.7/dist-packages (from matplotlib>=3.2.1->SGSpeech==0.0.1) (0.10.0)\n",
            "Requirement already satisfied: click in /usr/local/lib/python3.7/dist-packages (from nltk>=3.5->SGSpeech==0.0.1) (7.1.2)\n",
            "Requirement already satisfied: regex in /usr/local/lib/python3.7/dist-packages (from nltk>=3.5->SGSpeech==0.0.1) (2019.12.20)\n",
            "Requirement already satisfied: zipp>=0.4; python_version < \"3.8\" in /usr/local/lib/python3.7/dist-packages (from importlib-resources; python_version < \"3.9\"->tensorflow-datasets>=4.1.0->SGSpeech==0.0.1) (3.4.1)\n",
            "Requirement already satisfied: googleapis-common-protos<2,>=1.52.0 in /usr/local/lib/python3.7/dist-packages (from tensorflow-metadata->tensorflow-datasets>=4.1.0->SGSpeech==0.0.1) (1.53.0)\n",
            "Requirement already satisfied: urllib3!=1.25.0,!=1.25.1,<1.26,>=1.21.1 in /usr/local/lib/python3.7/dist-packages (from requests>=2.19.0->tensorflow-datasets>=4.1.0->SGSpeech==0.0.1) (1.24.3)\n",
            "Requirement already satisfied: certifi>=2017.4.17 in /usr/local/lib/python3.7/dist-packages (from requests>=2.19.0->tensorflow-datasets>=4.1.0->SGSpeech==0.0.1) (2020.12.5)\n",
            "Requirement already satisfied: idna<3,>=2.5 in /usr/local/lib/python3.7/dist-packages (from requests>=2.19.0->tensorflow-datasets>=4.1.0->SGSpeech==0.0.1) (2.10)\n",
            "Requirement already satisfied: chardet<4,>=3.0.2 in /usr/local/lib/python3.7/dist-packages (from requests>=2.19.0->tensorflow-datasets>=4.1.0->SGSpeech==0.0.1) (3.0.4)\n",
            "Requirement already satisfied: grpcio~=1.34.0 in /usr/local/lib/python3.7/dist-packages (from tensorflow<2.6.0,>=2.5.0->tensorflow-io>=0.16.0->SGSpeech==0.0.1) (1.34.1)\n",
            "Requirement already satisfied: opt-einsum~=3.3.0 in /usr/local/lib/python3.7/dist-packages (from tensorflow<2.6.0,>=2.5.0->tensorflow-io>=0.16.0->SGSpeech==0.0.1) (3.3.0)\n",
            "Requirement already satisfied: flatbuffers~=1.12.0 in /usr/local/lib/python3.7/dist-packages (from tensorflow<2.6.0,>=2.5.0->tensorflow-io>=0.16.0->SGSpeech==0.0.1) (1.12)\n",
            "Requirement already satisfied: tensorboard~=2.5 in /usr/local/lib/python3.7/dist-packages (from tensorflow<2.6.0,>=2.5.0->tensorflow-io>=0.16.0->SGSpeech==0.0.1) (2.5.0)\n",
            "Requirement already satisfied: wrapt~=1.12.1 in /usr/local/lib/python3.7/dist-packages (from tensorflow<2.6.0,>=2.5.0->tensorflow-io>=0.16.0->SGSpeech==0.0.1) (1.12.1)\n",
            "Requirement already satisfied: google-pasta~=0.2 in /usr/local/lib/python3.7/dist-packages (from tensorflow<2.6.0,>=2.5.0->tensorflow-io>=0.16.0->SGSpeech==0.0.1) (0.2.0)\n",
            "Requirement already satisfied: astunparse~=1.6.3 in /usr/local/lib/python3.7/dist-packages (from tensorflow<2.6.0,>=2.5.0->tensorflow-io>=0.16.0->SGSpeech==0.0.1) (1.6.3)\n",
            "Requirement already satisfied: gast==0.4.0 in /usr/local/lib/python3.7/dist-packages (from tensorflow<2.6.0,>=2.5.0->tensorflow-io>=0.16.0->SGSpeech==0.0.1) (0.4.0)\n",
            "Requirement already satisfied: tensorflow-estimator<2.6.0,>=2.5.0rc0 in /usr/local/lib/python3.7/dist-packages (from tensorflow<2.6.0,>=2.5.0->tensorflow-io>=0.16.0->SGSpeech==0.0.1) (2.5.0)\n",
            "Requirement already satisfied: h5py~=3.1.0 in /usr/local/lib/python3.7/dist-packages (from tensorflow<2.6.0,>=2.5.0->tensorflow-io>=0.16.0->SGSpeech==0.0.1) (3.1.0)\n",
            "Requirement already satisfied: wheel~=0.35 in /usr/local/lib/python3.7/dist-packages (from tensorflow<2.6.0,>=2.5.0->tensorflow-io>=0.16.0->SGSpeech==0.0.1) (0.36.2)\n",
            "Requirement already satisfied: keras-nightly~=2.5.0.dev in /usr/local/lib/python3.7/dist-packages (from tensorflow<2.6.0,>=2.5.0->tensorflow-io>=0.16.0->SGSpeech==0.0.1) (2.5.0.dev2021032900)\n",
            "Requirement already satisfied: keras-preprocessing~=1.1.2 in /usr/local/lib/python3.7/dist-packages (from tensorflow<2.6.0,>=2.5.0->tensorflow-io>=0.16.0->SGSpeech==0.0.1) (1.1.2)\n",
            "Requirement already satisfied: appdirs in /usr/local/lib/python3.7/dist-packages (from pooch>=1.0->librosa>=0.8.0->SGSpeech==0.0.1) (1.4.4)\n",
            "Requirement already satisfied: packaging in /usr/local/lib/python3.7/dist-packages (from pooch>=1.0->librosa>=0.8.0->SGSpeech==0.0.1) (20.9)\n",
            "Requirement already satisfied: llvmlite<0.35,>=0.34.0.dev0 in /usr/local/lib/python3.7/dist-packages (from numba>=0.43.0->librosa>=0.8.0->SGSpeech==0.0.1) (0.34.0)\n",
            "Requirement already satisfied: pycparser in /usr/local/lib/python3.7/dist-packages (from cffi>=1.0->soundfile>=0.10.3->SGSpeech==0.0.1) (2.20)\n",
            "Requirement already satisfied: tensorboard-data-server<0.7.0,>=0.6.0 in /usr/local/lib/python3.7/dist-packages (from tensorboard~=2.5->tensorflow<2.6.0,>=2.5.0->tensorflow-io>=0.16.0->SGSpeech==0.0.1) (0.6.1)\n",
            "Requirement already satisfied: markdown>=2.6.8 in /usr/local/lib/python3.7/dist-packages (from tensorboard~=2.5->tensorflow<2.6.0,>=2.5.0->tensorflow-io>=0.16.0->SGSpeech==0.0.1) (3.3.4)\n",
            "Requirement already satisfied: google-auth<2,>=1.6.3 in /usr/local/lib/python3.7/dist-packages (from tensorboard~=2.5->tensorflow<2.6.0,>=2.5.0->tensorflow-io>=0.16.0->SGSpeech==0.0.1) (1.30.0)\n",
            "Requirement already satisfied: google-auth-oauthlib<0.5,>=0.4.1 in /usr/local/lib/python3.7/dist-packages (from tensorboard~=2.5->tensorflow<2.6.0,>=2.5.0->tensorflow-io>=0.16.0->SGSpeech==0.0.1) (0.4.4)\n",
            "Requirement already satisfied: tensorboard-plugin-wit>=1.6.0 in /usr/local/lib/python3.7/dist-packages (from tensorboard~=2.5->tensorflow<2.6.0,>=2.5.0->tensorflow-io>=0.16.0->SGSpeech==0.0.1) (1.8.0)\n",
            "Requirement already satisfied: werkzeug>=0.11.15 in /usr/local/lib/python3.7/dist-packages (from tensorboard~=2.5->tensorflow<2.6.0,>=2.5.0->tensorflow-io>=0.16.0->SGSpeech==0.0.1) (1.0.1)\n",
            "Requirement already satisfied: cached-property; python_version < \"3.8\" in /usr/local/lib/python3.7/dist-packages (from h5py~=3.1.0->tensorflow<2.6.0,>=2.5.0->tensorflow-io>=0.16.0->SGSpeech==0.0.1) (1.5.2)\n",
            "Requirement already satisfied: importlib-metadata; python_version < \"3.8\" in /usr/local/lib/python3.7/dist-packages (from markdown>=2.6.8->tensorboard~=2.5->tensorflow<2.6.0,>=2.5.0->tensorflow-io>=0.16.0->SGSpeech==0.0.1) (4.0.1)\n",
            "Requirement already satisfied: pyasn1-modules>=0.2.1 in /usr/local/lib/python3.7/dist-packages (from google-auth<2,>=1.6.3->tensorboard~=2.5->tensorflow<2.6.0,>=2.5.0->tensorflow-io>=0.16.0->SGSpeech==0.0.1) (0.2.8)\n",
            "Requirement already satisfied: rsa<5,>=3.1.4; python_version >= \"3.6\" in /usr/local/lib/python3.7/dist-packages (from google-auth<2,>=1.6.3->tensorboard~=2.5->tensorflow<2.6.0,>=2.5.0->tensorflow-io>=0.16.0->SGSpeech==0.0.1) (4.7.2)\n",
            "Requirement already satisfied: cachetools<5.0,>=2.0.0 in /usr/local/lib/python3.7/dist-packages (from google-auth<2,>=1.6.3->tensorboard~=2.5->tensorflow<2.6.0,>=2.5.0->tensorflow-io>=0.16.0->SGSpeech==0.0.1) (4.2.2)\n",
            "Requirement already satisfied: requests-oauthlib>=0.7.0 in /usr/local/lib/python3.7/dist-packages (from google-auth-oauthlib<0.5,>=0.4.1->tensorboard~=2.5->tensorflow<2.6.0,>=2.5.0->tensorflow-io>=0.16.0->SGSpeech==0.0.1) (1.3.0)\n",
            "Requirement already satisfied: pyasn1<0.5.0,>=0.4.6 in /usr/local/lib/python3.7/dist-packages (from pyasn1-modules>=0.2.1->google-auth<2,>=1.6.3->tensorboard~=2.5->tensorflow<2.6.0,>=2.5.0->tensorflow-io>=0.16.0->SGSpeech==0.0.1) (0.4.8)\n",
            "Requirement already satisfied: oauthlib>=3.0.0 in /usr/local/lib/python3.7/dist-packages (from requests-oauthlib>=0.7.0->google-auth-oauthlib<0.5,>=0.4.1->tensorboard~=2.5->tensorflow<2.6.0,>=2.5.0->tensorflow-io>=0.16.0->SGSpeech==0.0.1) (3.1.0)\n",
            "Building wheels for collected packages: SGSpeech\n",
            "  Building wheel for SGSpeech (setup.py) ... \u001b[?25l\u001b[?25hdone\n",
            "  Created wheel for SGSpeech: filename=SGSpeech-0.0.1-cp37-none-any.whl size=1190 sha256=16d29554a0fc81187eaa7c752ac23031a4382c3c58cf875578ae104ae98a4ff6\n",
            "  Stored in directory: /tmp/pip-ephem-wheel-cache-_hv9268l/wheels/a7/fa/4f/adc33db7c98d90534d0aaf5f93254c7f765ee7a83431513da7\n",
            "Successfully built SGSpeech\n",
            "Installing collected packages: SGSpeech\n",
            "  Found existing installation: SGSpeech 0.0.1\n",
            "    Uninstalling SGSpeech-0.0.1:\n",
            "      Successfully uninstalled SGSpeech-0.0.1\n",
            "Successfully installed SGSpeech-0.0.1\n"
          ],
          "name": "stdout"
        }
      ]
    },
    {
      "cell_type": "code",
      "metadata": {
        "colab": {
          "base_uri": "https://localhost:8080/"
        },
        "id": "d3HGKxXSt9Xo",
        "outputId": "d931ec8c-cb20-4e3f-84af-6849286239c2"
      },
      "source": [
        "import os\n",
        "import math\n",
        "import argparse\n",
        "from sgspeech_private.sgspeech.utils import setup_environment, setup_strategy\n",
        "\n",
        "setup_environment()\n",
        "import tensorflow as tf\n",
        "\n",
        "tf.keras.backend.clear_session()\n",
        "\n",
        "strategy = setup_strategy([0])\n",
        "\n",
        "from sgspeech_private.sgspeech.configs.config import Config\n",
        "from sgspeech_private.sgspeech.datasets.speech_dataset import SpeechSliceDataset\n",
        "from sgspeech_private.sgspeech.featurizers.speech_featurizer import NumpySpeechFeaturizer\n",
        "from sgspeech_private.sgspeech.featurizers.text_featurizer import CharFeaturizer\n",
        "from sgspeech_private.sgspeech.runners.transducer_runners import TransducerTrainer\n",
        "from sgspeech_private.sgspeech.models.conformer import Conformer\n",
        "from sgspeech_private.sgspeech.optimizers.schedules import TransformerSchedule\n",
        "\n",
        "config = Config('/content/sgspeech_private/config.yml')\n",
        "speech_featurizer = NumpySpeechFeaturizer(config.speech_config)\n",
        "text_featurizer = CharFeaturizer(config.decoder_config)\n",
        "\n",
        "train_dataset = SpeechSliceDataset(\n",
        "    speech_featurizer=speech_featurizer, text_featurizer=text_featurizer,\n",
        "    **vars(config.learning_config.train_dataset_config)\n",
        ")\n",
        "eval_dataset = SpeechSliceDataset(\n",
        "    speech_featurizer=speech_featurizer, text_featurizer=text_featurizer,\n",
        "    **vars(config.learning_config.eval_dataset_config)\n",
        ")\n",
        "\n",
        "conformer_trainer = TransducerTrainer(\n",
        "    config=config.learning_config.running_config,\n",
        "    text_featurizer=text_featurizer, strategy=strategy\n",
        ")\n",
        "\n",
        "with conformer_trainer.strategy.scope():\n",
        "    # build model\n",
        "    conformer = Conformer(**config.model_config, vocabulary_size=text_featurizer.num_classes)\n",
        "    conformer._build(speech_featurizer.shape)\n",
        "    conformer.summary(line_length=120)\n",
        "\n",
        "    optimizer_config = config.learning_config.optimizer_config\n",
        "    optimizer = tf.keras.optimizers.Adam(\n",
        "        TransformerSchedule(\n",
        "            d_model=conformer.dmodel,\n",
        "            warmup_steps=optimizer_config[\"warmup_steps\"],\n",
        "            max_lr=(0.05 / math.sqrt(conformer.dmodel))\n",
        "        ),\n",
        "        beta_1=optimizer_config[\"beta1\"],\n",
        "        beta_2=optimizer_config[\"beta2\"],\n",
        "        epsilon=optimizer_config[\"epsilon\"]\n",
        "    )\n",
        "\n",
        "conformer_trainer.compile(model=conformer, optimizer=optimizer,\n",
        "                          max_to_keep=10)\n",
        "\n",
        "conformer_trainer.fit(train_dataset, eval_dataset, train_bs=4, eval_bs=1)"
      ],
      "execution_count": null,
      "outputs": [
        {
          "output_type": "stream",
          "text": [
            "Run on 1 Physical GPUs\n",
            "Use RNNT loss in TensorFlow\n",
            "Model: \"conformer_encoder\"\n",
            "________________________________________________________________________________________________________________________\n",
            "Layer (type)                                          Output Shape                                    Param #           \n",
            "========================================================================================================================\n",
            "conformer_encoder_subsampling (Conv2dSubsampling)     multiple                                        188208            \n",
            "________________________________________________________________________________________________________________________\n",
            "conformer_encoder_pe (PositionalEncodingConcat)       multiple                                        0                 \n",
            "________________________________________________________________________________________________________________________\n",
            "conformer_encoder_linear (Dense)                      multiple                                        414864            \n",
            "________________________________________________________________________________________________________________________\n",
            "conformer_encoder_dropout (Dropout)                   multiple                                        0                 \n",
            "________________________________________________________________________________________________________________________\n",
            "conformer_encoder_block_0 (ConformerBlock)            multiple                                        506736            \n",
            "________________________________________________________________________________________________________________________\n",
            "conformer_encoder_block_1 (ConformerBlock)            multiple                                        506736            \n",
            "________________________________________________________________________________________________________________________\n",
            "conformer_encoder_block_2 (ConformerBlock)            multiple                                        506736            \n",
            "________________________________________________________________________________________________________________________\n",
            "conformer_encoder_block_3 (ConformerBlock)            multiple                                        506736            \n",
            "________________________________________________________________________________________________________________________\n",
            "conformer_encoder_block_4 (ConformerBlock)            multiple                                        506736            \n",
            "________________________________________________________________________________________________________________________\n",
            "conformer_encoder_block_5 (ConformerBlock)            multiple                                        506736            \n",
            "________________________________________________________________________________________________________________________\n",
            "conformer_encoder_block_6 (ConformerBlock)            multiple                                        506736            \n",
            "________________________________________________________________________________________________________________________\n",
            "conformer_encoder_block_7 (ConformerBlock)            multiple                                        506736            \n",
            "________________________________________________________________________________________________________________________\n",
            "conformer_encoder_block_8 (ConformerBlock)            multiple                                        506736            \n",
            "________________________________________________________________________________________________________________________\n",
            "conformer_encoder_block_9 (ConformerBlock)            multiple                                        506736            \n",
            "________________________________________________________________________________________________________________________\n",
            "conformer_encoder_block_10 (ConformerBlock)           multiple                                        506736            \n",
            "________________________________________________________________________________________________________________________\n",
            "conformer_encoder_block_11 (ConformerBlock)           multiple                                        506736            \n",
            "________________________________________________________________________________________________________________________\n",
            "conformer_encoder_block_12 (ConformerBlock)           multiple                                        506736            \n",
            "________________________________________________________________________________________________________________________\n",
            "conformer_encoder_block_13 (ConformerBlock)           multiple                                        506736            \n",
            "________________________________________________________________________________________________________________________\n",
            "conformer_encoder_block_14 (ConformerBlock)           multiple                                        506736            \n",
            "________________________________________________________________________________________________________________________\n",
            "conformer_encoder_block_15 (ConformerBlock)           multiple                                        506736            \n",
            "========================================================================================================================\n",
            "Total params: 8,710,848\n",
            "Trainable params: 8,706,240\n",
            "Non-trainable params: 4,608\n",
            "________________________________________________________________________________________________________________________\n",
            "Model: \"conformer_prediction\"\n",
            "________________________________________________________________________________________________________________________\n",
            "Layer (type)                                          Output Shape                                    Param #           \n",
            "========================================================================================================================\n",
            "conformer_prediction_embedding (Embedding)            multiple                                        9280              \n",
            "________________________________________________________________________________________________________________________\n",
            "conformer_prediction_dropout (Dropout)                multiple                                        0                 \n",
            "________________________________________________________________________________________________________________________\n",
            "conformer_prediction_projection_0 (Dense)             multiple                                        46224             \n",
            "________________________________________________________________________________________________________________________\n",
            "conformer_prediction_lstm_0 (LSTM)                    multiple                                        820480            \n",
            "========================================================================================================================\n",
            "Total params: 875,984\n",
            "Trainable params: 875,984\n",
            "Non-trainable params: 0\n",
            "________________________________________________________________________________________________________________________\n",
            "Model: \"conformer_joint\"\n",
            "________________________________________________________________________________________________________________________\n",
            "Layer (type)                                          Output Shape                                    Param #           \n",
            "========================================================================================================================\n",
            "conformer_joint_vocab (Dense)                         multiple                                        4205              \n",
            "========================================================================================================================\n",
            "Total params: 4,205\n",
            "Trainable params: 4,205\n",
            "Non-trainable params: 0\n",
            "________________________________________________________________________________________________________________________\n",
            "Model: \"conformer\"\n",
            "________________________________________________________________________________________________________________________\n",
            "Layer (type)                                          Output Shape                                    Param #           \n",
            "========================================================================================================================\n",
            "conformer_encoder (ConformerEncoder)                  multiple                                        8710848           \n",
            "________________________________________________________________________________________________________________________\n",
            "conformer_prediction (TransducerPrediction)           multiple                                        875984            \n",
            "________________________________________________________________________________________________________________________\n",
            "conformer_joint (TransducerJoint)                     multiple                                        4205              \n",
            "========================================================================================================================\n",
            "Total params: 9,591,037\n",
            "Trainable params: 9,586,429\n",
            "Non-trainable params: 4,608\n",
            "________________________________________________________________________________________________________________________\n",
            "Read files\n",
            "Read files\n",
            "resume training...\n"
          ],
          "name": "stdout"
        },
        {
          "output_type": "stream",
          "text": [
            "[Train] [Epoch 2/20 |\u001b[32m█▏                  \u001b[39m| 8096/142680 [1:17:33<317:16:24,  8.49s/batch, transducer_loss=209.93613]"
          ],
          "name": "stderr"
        }
      ]
    },
    {
      "cell_type": "code",
      "metadata": {
        "id": "2rNWOU8mmabl"
      },
      "source": [
        ""
      ],
      "execution_count": null,
      "outputs": []
    }
  ]
}
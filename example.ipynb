{
 "cells": [
  {
   "cell_type": "code",
   "execution_count": null,
   "metadata": {
    "colab": {
     "base_uri": "https://localhost:8080/"
    },
    "id": "uycv4pvyWfcN",
    "outputId": "e0c18352-658a-43aa-e026-f3623abdfe0f"
   },
   "outputs": [],
   "source": [
    "!git clone https://github.com/indra622/tiny_sgspeech"
   ]
  },
  {
   "cell_type": "code",
   "execution_count": null,
   "metadata": {
    "colab": {
     "base_uri": "https://localhost:8080/"
    },
    "id": "AyVxqdP0Wotu",
    "outputId": "e22168a2-1ade-4080-bd7a-9f3bf05720cc"
   },
   "outputs": [],
   "source": [
    "!wget https://www.openslr.org/resources/12/train-clean-100.tar.gz\n",
    "!wget https://www.openslr.org/resources/12/dev-clean.tar.gz"
   ]
  },
  {
   "cell_type": "code",
   "execution_count": null,
   "metadata": {
    "id": "8Gs1Lv7-XZmu"
   },
   "outputs": [],
   "source": [
    "!tar -xvzf train-clean-100.tar.gz && rm train-clean-100.tar.gz\n",
    "!tar -xvzf dev-clean.tar.gz && rm dev-clean.tar.gz"
   ]
  },
  {
   "cell_type": "code",
   "execution_count": null,
   "metadata": {
    "id": "BvVngzpAkKpk"
   },
   "outputs": [],
   "source": [
    "!python tiny_sgspeech/create_librispeech_trans.py --dir /content/LibriSpeech/train-clean-100 /content/LibriSpeech/train-clean-100/transcripts.tsv\n",
    "!python tiny_sgspeech/create_librispeech_trans.py --dir /content/LibriSpeech/dev-clean /content/LibriSpeech/dev-clean/transcripts.tsv\n"
   ]
  },
  {
   "cell_type": "code",
   "execution_count": null,
   "metadata": {
    "id": "ZzqhWnnojX0j"
   },
   "outputs": [],
   "source": [
    "!cd tiny_sgspeech && pip install ."
   ]
  },
  {
   "cell_type": "code",
   "execution_count": null,
   "metadata": {
    "colab": {
     "base_uri": "https://localhost:8080/"
    },
    "id": "pTSCNQc6reqe",
    "outputId": "a73a7495-b2d7-4648-cefc-efee62a5970a"
   },
   "outputs": [],
   "source": [
    "from tiny_sgspeech.sgspeech.utils import setup_environment, setup_strategy\n",
    "\n",
    "setup_environment()\n",
    "strategy = setup_strategy([0])"
   ]
  },
  {
   "cell_type": "code",
   "execution_count": null,
   "metadata": {
    "id": "dP7EB5E4mLYm"
   },
   "outputs": [],
   "source": [
    "from tiny_sgspeech.sgspeech.configs.config import Config\n",
    "from tiny_sgspeech.sgspeech.featurizers.speech_featurizer import NumpySpeechFeaturizer\n",
    "from tiny_sgspeech.sgspeech.featurizers.text_featurizer import CharFeaturizer\n",
    "\n",
    "config = Config('/content/tiny_sgspeech/config.yml')\n",
    "speech_featurizer = NumpySpeechFeaturizer(config.speech_config)\n",
    "text_featurizer = CharFeaturizer(config.decoder_config)"
   ]
  },
  {
   "cell_type": "code",
   "execution_count": null,
   "metadata": {
    "id": "LK5XAOMfmPDA"
   },
   "outputs": [],
   "source": [
    "from tiny_sgspeech.sgspeech.datasets.speech_dataset import SpeechSliceDataset\n",
    "from tiny_sgspeech.sgspeech.featurizers.text_featurizer import CharFeaturizer\n",
    "\n",
    "train_dataset = SpeechSliceDataset(\n",
    "    speech_featurizer=speech_featurizer, text_featurizer=text_featurizer,\n",
    "    **vars(config.learning_config.train_dataset_config)\n",
    ")\n",
    "eval_dataset = SpeechSliceDataset(\n",
    "    speech_featurizer=speech_featurizer, text_featurizer=text_featurizer,\n",
    "    **vars(config.learning_config.eval_dataset_config)\n",
    ")"
   ]
  },
  {
   "cell_type": "code",
   "execution_count": null,
   "metadata": {
    "colab": {
     "base_uri": "https://localhost:8080/"
    },
    "id": "hwKN_O2ism1u",
    "outputId": "824f9a23-601e-4b73-964a-dd2dbea68fd8"
   },
   "outputs": [],
   "source": [
    "td = next(iter(train_dataset.create(1)))\n",
    "speech_link = td[0]\n",
    "speech_feature = td[1]\n",
    "speech_duration = td[2]\n",
    "transcription = td[3]\n",
    "transcription_length = td[4]"
   ]
  },
  {
   "cell_type": "code",
   "execution_count": null,
   "metadata": {
    "colab": {
     "base_uri": "https://localhost:8080/",
     "height": 74
    },
    "id": "a4DQQcpEQ63b",
    "outputId": "6c5c7460-cb7b-468c-bb57-2e533f75001c"
   },
   "outputs": [],
   "source": [
    "import IPython.display as ipd\n",
    "import tensorflow as tf\n",
    "\n",
    "speech_path = speech_link[0].numpy().decode('utf-8')\n",
    "ipd.Audio(speech_path)"
   ]
  },
  {
   "cell_type": "code",
   "execution_count": null,
   "metadata": {
    "colab": {
     "base_uri": "https://localhost:8080/"
    },
    "id": "AMpIhqh27jYf",
    "outputId": "a0128fbd-3f4b-462f-b9c8-36b91d5dce44"
   },
   "outputs": [],
   "source": [
    "transcription"
   ]
  },
  {
   "cell_type": "code",
   "execution_count": null,
   "metadata": {
    "colab": {
     "base_uri": "https://localhost:8080/"
    },
    "id": "XXu7giJj7uES",
    "outputId": "1c2683c8-7b8f-460a-a9a6-734ac57b82ac"
   },
   "outputs": [],
   "source": [
    "text_featurizer.iextract(transcription)"
   ]
  },
  {
   "cell_type": "code",
   "execution_count": null,
   "metadata": {
    "id": "2NSRu8l6Rds-"
   },
   "outputs": [],
   "source": [
    "import librosa\n",
    "import os\n",
    "\n",
    "raw_audio, _ = librosa.load(os.path.expanduser(speech_path), sr=16000, mono=True)\n"
   ]
  },
  {
   "cell_type": "code",
   "execution_count": null,
   "metadata": {
    "colab": {
     "base_uri": "https://localhost:8080/"
    },
    "id": "Kj83xTHURdx2",
    "outputId": "2b32e2bb-04fa-484a-c123-3b7978aac26e"
   },
   "outputs": [],
   "source": [
    "print(raw_audio.shape)\n",
    "print(speech_feature.shape)"
   ]
  },
  {
   "cell_type": "code",
   "execution_count": null,
   "metadata": {
    "id": "x2tq9Nv3s9vR"
   },
   "outputs": [],
   "source": [
    "from tiny_sgspeech.sgspeech.runners.transducer_runners import TransducerTrainer\n",
    "\n",
    "\n",
    "conformer_trainer = TransducerTrainer(\n",
    "    config=config.learning_config.running_config,\n",
    "    text_featurizer=text_featurizer, strategy=strategy\n",
    ")"
   ]
  },
  {
   "cell_type": "code",
   "execution_count": null,
   "metadata": {
    "id": "kCKhFuWfaM1A"
   },
   "outputs": [],
   "source": [
    "from tiny_sgspeech.sgspeech.models.conformer import Conformer\n",
    "\n",
    "cf = Conformer(**config.model_config, vocabulary_size=text_featurizer.num_classes)"
   ]
  },
  {
   "cell_type": "code",
   "execution_count": null,
   "metadata": {
    "id": "Ku7me2wXaWc9"
   },
   "outputs": [],
   "source": [
    "cf._build(speech_featurizer.shape)"
   ]
  },
  {
   "cell_type": "code",
   "execution_count": null,
   "metadata": {
    "colab": {
     "base_uri": "https://localhost:8080/"
    },
    "id": "-szAC4v5aj5H",
    "outputId": "d46e7436-c90a-4e95-aa64-3a2755201e9c"
   },
   "outputs": [],
   "source": [
    "cf.summary(line_length=150)"
   ]
  },
  {
   "cell_type": "code",
   "execution_count": null,
   "metadata": {
    "colab": {
     "base_uri": "https://localhost:8080/"
    },
    "id": "XK1jSqFceTrB",
    "outputId": "f5f2e2f9-611c-42df-d552-1359198dd236"
   },
   "outputs": [],
   "source": [
    "from tiny_sgspeech.sgspeech.optimizers.schedules import TransformerSchedule\n",
    "import tensorflow as tf\n",
    "import math\n",
    "\n",
    "with conformer_trainer.strategy.scope():\n",
    "    # build model\n",
    "    conformer = Conformer(**config.model_config, vocabulary_size=text_featurizer.num_classes)\n",
    "    conformer._build(speech_featurizer.shape)\n",
    "\n",
    "    optimizer_config = config.learning_config.optimizer_config\n",
    "    optimizer = tf.keras.optimizers.Adam(\n",
    "        TransformerSchedule(\n",
    "            d_model=conformer.dmodel,\n",
    "            warmup_steps=optimizer_config[\"warmup_steps\"],\n",
    "            max_lr=(0.05 / math.sqrt(conformer.dmodel))\n",
    "        ),\n",
    "        beta_1=optimizer_config[\"beta1\"],\n",
    "        beta_2=optimizer_config[\"beta2\"],\n",
    "        epsilon=optimizer_config[\"epsilon\"]\n",
    "    )\n"
   ]
  },
  {
   "cell_type": "code",
   "execution_count": null,
   "metadata": {
    "colab": {
     "base_uri": "https://localhost:8080/",
     "height": 424
    },
    "id": "eDROjA-Z1qof",
    "outputId": "9c29be42-0217-4bed-cf23-3463f8d78511"
   },
   "outputs": [],
   "source": [
    "conformer_trainer.compile(model=conformer, optimizer=optimizer,\n",
    "                          max_to_keep=10)\n",
    "\n",
    "conformer_trainer.fit(train_dataset, eval_dataset, train_bs=2, eval_bs=1)"
   ]
  },
  {
   "cell_type": "code",
   "execution_count": null,
   "metadata": {
    "id": "Vg6T1-FuTuWf"
   },
   "outputs": [],
   "source": [
    "test_cf = Conformer(**config.model_config, vocabulary_size=text_featurizer.num_classes)\n",
    "test_cf._build(speech_featurizer.shape)\n",
    "test_cf.load_weights('/content/conformer.h5')\n",
    "test_cf.summary(line_length=150)\n",
    "test_cf.add_featurizers(speech_featurizer, text_featurizer)"
   ]
  },
  {
   "cell_type": "code",
   "execution_count": null,
   "metadata": {},
   "outputs": [],
   "source": [
    "from tiny_sgspeech.sgspeech.runners.base_runners import BaseTester\n",
    "\n",
    "conformer_tester = BaseTester(\n",
    "    config=config.learning_config.running_config,\n",
    "    output_name='result'\n",
    ")\n",
    "conformer_tester.compile(test_cf)\n",
    "conformer_tester.run(eval_dataset, batch_size=1)"
   ]
  }
 ],
 "metadata": {
  "accelerator": "GPU",
  "colab": {
   "collapsed_sections": [],
   "name": "sgspeech.ipynb",
   "provenance": []
  },
  "kernelspec": {
   "display_name": "Python 3",
   "language": "python",
   "name": "python3"
  },
  "language_info": {
   "codemirror_mode": {
    "name": "ipython",
    "version": 3
   },
   "file_extension": ".py",
   "mimetype": "text/x-python",
   "name": "python",
   "nbconvert_exporter": "python",
   "pygments_lexer": "ipython3",
   "version": "3.8.3"
  }
 },
 "nbformat": 4,
 "nbformat_minor": 4
}
